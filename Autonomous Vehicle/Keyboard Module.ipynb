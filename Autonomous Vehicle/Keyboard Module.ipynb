{
 "cells": [
  {
   "cell_type": "code",
   "execution_count": null,
   "id": "40db474a",
   "metadata": {},
   "outputs": [],
   "source": [
    "import pygame\n",
    " \n",
    "def init():\n",
    "    pygame.init()\n",
    "    win = pygame.display.set_mode((100,100))\n",
    " \n",
    "def getKey(keyName):\n",
    "    ans = False\n",
    "    for eve in pygame.event.get():pass\n",
    "    keyInput = pygame.key.get_pressed()\n",
    "    myKey = getattr(pygame,'K_{}'.format(keyName))\n",
    "    if keyInput [myKey]:\n",
    "        ans = True\n",
    "    pygame.display.update()\n",
    " \n",
    "    return ans\n",
    " \n",
    "def main():\n",
    "    if getKey('LEFT'):\n",
    "        print('Key Left was pressed')\n",
    "    if getKey('RIGHT'):\n",
    "        print('Key Right was pressed')\n",
    " \n",
    "if __name__ == '__main__':\n",
    "    init()\n",
    "    while True:\n",
    "        main()"
   ]
  }
 ],
 "metadata": {
  "kernelspec": {
   "display_name": "Python 3",
   "language": "python",
   "name": "python3"
  },
  "language_info": {
   "codemirror_mode": {
    "name": "ipython",
    "version": 3
   },
   "file_extension": ".py",
   "mimetype": "text/x-python",
   "name": "python",
   "nbconvert_exporter": "python",
   "pygments_lexer": "ipython3",
   "version": "3.9.7"
  }
 },
 "nbformat": 4,
 "nbformat_minor": 5
}
