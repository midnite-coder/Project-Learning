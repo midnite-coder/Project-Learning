{
 "cells": [
  {
   "cell_type": "code",
   "execution_count": null,
   "id": "8164f7df",
   "metadata": {},
   "outputs": [],
   "source": [
    "from MotorModule import Motor\n",
    " \n",
    "motor= Motor(2,3,4,17,22,27)\n",
    " \n",
    "def main():\n",
    "    motor.move(0.6,0,2)\n",
    "    motor.stop(2)\n",
    "    motor.move(-0.5,0.2,2)\n",
    "    motor.stop(2)\n",
    " \n",
    "if __name__ == '__main__':\n",
    "    while True:\n",
    "        main()"
   ]
  }
 ],
 "metadata": {
  "kernelspec": {
   "display_name": "Python 3",
   "language": "python",
   "name": "python3"
  },
  "language_info": {
   "codemirror_mode": {
    "name": "ipython",
    "version": 3
   },
   "file_extension": ".py",
   "mimetype": "text/x-python",
   "name": "python",
   "nbconvert_exporter": "python",
   "pygments_lexer": "ipython3",
   "version": "3.9.7"
  }
 },
 "nbformat": 4,
 "nbformat_minor": 5
}
