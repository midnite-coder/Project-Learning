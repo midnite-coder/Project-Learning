{
 "cells": [
  {
   "cell_type": "code",
   "execution_count": 25,
   "id": "34311753",
   "metadata": {},
   "outputs": [
    {
     "name": "stdout",
     "output_type": "stream",
     "text": [
      "away\n"
     ]
    }
   ],
   "source": [
    "list1=['A', 'app','a', 'd', 'ke', 'th', 'doc', 'awa']\n",
    "list2=['y','tor','e','eps','ay','','le','n']\n",
    "list3=[]\n",
    "\n",
    "list3=list2[::-1]\n",
    "\n",
    "for i, j in zip(list1,list3):\n",
    "    list4=i+j\n",
    "print(list4)"
   ]
  },
  {
   "cell_type": "code",
   "execution_count": 6,
   "id": "cea9352c",
   "metadata": {},
   "outputs": [
    {
     "name": "stdout",
     "output_type": "stream",
     "text": [
      "Test cases:2\n",
      "enter 2 numbers:1 2\n",
      "3\n",
      "enter 2 numbers:3 6\n",
      "9\n"
     ]
    }
   ],
   "source": [
    "t=int(input('Test cases:'))\n",
    "\n",
    "while t>0:\n",
    "    a, b=map(int,input('enter 2 numbers:').split())\n",
    "    print(a+b)\n",
    "    t=t-1\n",
    "\n",
    "    \n"
   ]
  },
  {
   "cell_type": "code",
   "execution_count": 3,
   "id": "708e687d",
   "metadata": {},
   "outputs": [
    {
     "name": "stdout",
     "output_type": "stream",
     "text": [
      "Enter test cases:2\n",
      "Enter max amount of water in bucket:80\n",
      "Enter amount of water already in the bucket:20\n",
      "The amount of water that can be filled in bucket without overflowing is 60\n",
      "Enter max amount of water in bucket:100\n",
      "Enter amount of water already in the bucket:5\n",
      "The amount of water that can be filled in bucket without overflowing is 95\n"
     ]
    }
   ],
   "source": [
    "T=int(input('Enter test cases:'))\n",
    "for i in range(T):\n",
    "    X=int(input('Enter max amount of water in bucket:'))\n",
    "    K=int(input('Enter amount of water already in the bucket:'))\n",
    "    print(f'The amount of water that can be filled in bucket without overflowing is {X-K}')\n",
    "    T=T+1"
   ]
  },
  {
   "cell_type": "code",
   "execution_count": 5,
   "id": "29e3f7ec",
   "metadata": {},
   "outputs": [
    {
     "name": "stdout",
     "output_type": "stream",
     "text": [
      "Movie length:50\n",
      "Good parts:10\n",
      "45.0\n"
     ]
    }
   ],
   "source": [
    "X=int(input('Movie length:'))\n",
    "Y=int(input('Good parts:'))\n",
    "Sum=(X-Y)+(Y/2)\n",
    "print(f'{Sum}')"
   ]
  },
  {
   "cell_type": "code",
   "execution_count": 4,
   "id": "123445c3",
   "metadata": {},
   "outputs": [
    {
     "name": "stdout",
     "output_type": "stream",
     "text": [
      "2 \n",
      "12 2\n",
      "10 6\n",
      "3\n",
      "0\n"
     ]
    }
   ],
   "source": [
    "T=int(input(''))\n",
    "L=[]\n",
    "while T>0:\n",
    "    X,Y=map(int,input('').split())\n",
    "    Z=int(X/(Y*2))\n",
    "    L.append(Z)\n",
    "    T=T-1\n",
    "    Z=0\n",
    "print(*L, sep='\\n')"
   ]
  },
  {
   "cell_type": "code",
   "execution_count": 5,
   "id": "f66bd3a9",
   "metadata": {},
   "outputs": [
    {
     "name": "stdout",
     "output_type": "stream",
     "text": [
      "2 \n",
      "4 5 6 2\n",
      "2 4 5 1\n",
      "3\n",
      "3\n"
     ]
    }
   ],
   "source": [
    "T=int(input(''))\n",
    "L=[]\n",
    "while T>0:\n",
    "    X1,Y1,X2,Y2=map(int,input('').split())\n",
    "    X=abs(X1-X2)\n",
    "    Y=abs(Y1-Y2)\n",
    "    M=max(X,Y)\n",
    "    L.append(M)\n",
    "    T=T-1\n",
    "print(*L, sep='\\n')"
   ]
  },
  {
   "cell_type": "code",
   "execution_count": 8,
   "id": "0a7b5d32",
   "metadata": {},
   "outputs": [
    {
     "name": "stdout",
     "output_type": "stream",
     "text": [
      "3\n",
      "5 2 3\n",
      "PASS\n",
      "4 0 0\n",
      "FAIL\n",
      "5 2 4\n",
      "FAIL\n"
     ]
    }
   ],
   "source": [
    "T=int(input(''))\n",
    "while T>0:\n",
    "    N,X,P=map(int,input('').split())\n",
    "    Y=(X*3)-(N-X)\n",
    "    if (Y>=P):\n",
    "        print('PASS')\n",
    "    else:\n",
    "        print('FAIL')\n",
    "    T=T-1\n"
   ]
  },
  {
   "cell_type": "code",
   "execution_count": 10,
   "id": "0f9fff61",
   "metadata": {},
   "outputs": [
    {
     "name": "stdout",
     "output_type": "stream",
     "text": [
      "Test3\n",
      "No. of women3\n",
      "12 66 99\n",
      "1\n",
      "No. of women4\n",
      "45 99 25 32\n",
      "3\n",
      "No. of women2\n",
      "44 66\n",
      "1\n"
     ]
    }
   ],
   "source": [
    "T=int(input(''))\n",
    "while T>0:\n",
    "    N=int,input('')\n",
    "    c=0\n",
    "    X=list(map(int,input('').split()))\n",
    "    for i in X:\n",
    "        if i>=10 and i<=60:\n",
    "            c+=1\n",
    "    print(c)\n",
    "    T=T-1    "
   ]
  },
  {
   "cell_type": "code",
   "execution_count": 4,
   "id": "0b6b9c05",
   "metadata": {},
   "outputs": [
    {
     "name": "stdout",
     "output_type": "stream",
     "text": [
      "1\n",
      "3\n",
      "8 2 3\n",
      "7 3 2\n",
      "1\n"
     ]
    }
   ],
   "source": [
    "T=int(input(''))\n",
    "while T>0:\n",
    "    N=int,input('')\n",
    "    c=0\n",
    "    s1=0\n",
    "    s2=100\n",
    "    h=list(map(int,input('').split()))\n",
    "    i=list(map(int,input('').split()))\n",
    "    for x in h:\n",
    "        for y in i:\n",
    "            if x>s1 and y<s2:\n",
    "                s1=x\n",
    "                s2=y\n",
    "                c+=1\n",
    "            else:\n",
    "                continue\n",
    "    print(c)\n",
    "    T=T-1\n"
   ]
  },
  {
   "cell_type": "code",
   "execution_count": 12,
   "id": "b25f5382",
   "metadata": {},
   "outputs": [
    {
     "name": "stdout",
     "output_type": "stream",
     "text": [
      "2\n",
      "3 3\n",
      "1 2\n",
      "1 3\n",
      "2 3\n",
      "NO\n",
      "4 2\n",
      "1 4\n",
      "2 3\n",
      "NO\n"
     ]
    }
   ],
   "source": [
    "T=int(input(''))\n",
    "x=[]\n",
    "flag=0\n",
    "while T>0:\n",
    "    \n",
    "    N,M=map(int,input('').split())\n",
    "    for i in range(M):\n",
    "        u,v=map(int,input('').split())\n",
    "        x.append(u)\n",
    "        x.append(v)\n",
    "\n",
    "    for j in range(N):\n",
    "        c=x.count(j)\n",
    "        if c==(N-1):\n",
    "            flag+=1\n",
    "    if flag==0:\n",
    "        print('YES')\n",
    "    else:\n",
    "        print('NO')\n",
    "    flag=0\n",
    "    T=T-1"
   ]
  },
  {
   "cell_type": "code",
   "execution_count": null,
   "id": "3a570b8b",
   "metadata": {},
   "outputs": [],
   "source": []
  }
 ],
 "metadata": {
  "kernelspec": {
   "display_name": "Python 3",
   "language": "python",
   "name": "python3"
  },
  "language_info": {
   "codemirror_mode": {
    "name": "ipython",
    "version": 3
   },
   "file_extension": ".py",
   "mimetype": "text/x-python",
   "name": "python",
   "nbconvert_exporter": "python",
   "pygments_lexer": "ipython3",
   "version": "3.9.7"
  }
 },
 "nbformat": 4,
 "nbformat_minor": 5
}
