{
 "cells": [
  {
   "cell_type": "markdown",
   "id": "bb6b0bff",
   "metadata": {},
   "source": [
    "Buy 2 get 1 free : find min cost to pay"
   ]
  },
  {
   "cell_type": "code",
   "execution_count": null,
   "id": "583f1d01",
   "metadata": {},
   "outputs": [],
   "source": [
    "T=int(input(''))\n",
    "M=0\n",
    "\n",
    "while (T>0):\n",
    "    Cost=0\n",
    "    N,X=map(int,input('').split())\n",
    "    M=int(N/3)\n",
    "    Cost=(M*2*X)+((N-(M*3))*X)\n",
    "    print(Cost)\n",
    "    T=T-1"
   ]
  },
  {
   "cell_type": "markdown",
   "id": "53c4534f",
   "metadata": {},
   "source": [
    "first input= time to exam"
   ]
  },
  {
   "cell_type": "markdown",
   "id": "ff832478",
   "metadata": {},
   "source": [
    "second input=no. of episodes"
   ]
  },
  {
   "cell_type": "markdown",
   "id": "860a3fe9",
   "metadata": {},
   "source": [
    "third=time per episode"
   ]
  },
  {
   "cell_type": "markdown",
   "id": "1f847e36",
   "metadata": {},
   "source": [
    "will they be able to complete a whole season before the exam"
   ]
  },
  {
   "cell_type": "code",
   "execution_count": 10,
   "id": "81f11dbf",
   "metadata": {},
   "outputs": [
    {
     "name": "stdout",
     "output_type": "stream",
     "text": [
      "3\n",
      "10 1 10\n",
      "YES\n",
      "25 2 10\n",
      "YES\n",
      "15 2 10\n",
      "NO\n"
     ]
    },
    {
     "ename": "KeyboardInterrupt",
     "evalue": "Interrupted by user",
     "output_type": "error",
     "traceback": [
      "\u001b[1;31m---------------------------------------------------------------------------\u001b[0m",
      "\u001b[1;31mKeyboardInterrupt\u001b[0m                         Traceback (most recent call last)",
      "\u001b[1;32m<ipython-input-10-9fe71c3675b8>\u001b[0m in \u001b[0;36m<module>\u001b[1;34m\u001b[0m\n\u001b[0;32m      2\u001b[0m \u001b[1;33m\u001b[0m\u001b[0m\n\u001b[0;32m      3\u001b[0m \u001b[1;32mwhile\u001b[0m \u001b[1;33m(\u001b[0m\u001b[0mT\u001b[0m\u001b[1;33m>\u001b[0m\u001b[1;36m0\u001b[0m\u001b[1;33m)\u001b[0m\u001b[1;33m:\u001b[0m\u001b[1;33m\u001b[0m\u001b[1;33m\u001b[0m\u001b[0m\n\u001b[1;32m----> 4\u001b[1;33m     \u001b[0mM\u001b[0m\u001b[1;33m,\u001b[0m\u001b[0mN\u001b[0m\u001b[1;33m,\u001b[0m\u001b[0mK\u001b[0m\u001b[1;33m=\u001b[0m\u001b[0mmap\u001b[0m\u001b[1;33m(\u001b[0m\u001b[0mint\u001b[0m\u001b[1;33m,\u001b[0m\u001b[0minput\u001b[0m\u001b[1;33m(\u001b[0m\u001b[1;34m''\u001b[0m\u001b[1;33m)\u001b[0m\u001b[1;33m.\u001b[0m\u001b[0msplit\u001b[0m\u001b[1;33m(\u001b[0m\u001b[1;33m)\u001b[0m\u001b[1;33m)\u001b[0m\u001b[1;33m\u001b[0m\u001b[1;33m\u001b[0m\u001b[0m\n\u001b[0m\u001b[0;32m      5\u001b[0m     \u001b[1;32mif\u001b[0m \u001b[0mM\u001b[0m\u001b[1;33m>=\u001b[0m\u001b[0mN\u001b[0m\u001b[1;33m*\u001b[0m\u001b[0mK\u001b[0m\u001b[1;33m:\u001b[0m\u001b[1;33m\u001b[0m\u001b[1;33m\u001b[0m\u001b[0m\n\u001b[0;32m      6\u001b[0m         \u001b[0mprint\u001b[0m\u001b[1;33m(\u001b[0m\u001b[1;34m'YES'\u001b[0m\u001b[1;33m)\u001b[0m\u001b[1;33m\u001b[0m\u001b[1;33m\u001b[0m\u001b[0m\n",
      "\u001b[1;32m~\\AppData\\Roaming\\Python\\Python39\\site-packages\\ipykernel\\kernelbase.py\u001b[0m in \u001b[0;36mraw_input\u001b[1;34m(self, prompt)\u001b[0m\n\u001b[0;32m    846\u001b[0m                 \u001b[1;34m\"raw_input was called, but this frontend does not support input requests.\"\u001b[0m\u001b[1;33m\u001b[0m\u001b[1;33m\u001b[0m\u001b[0m\n\u001b[0;32m    847\u001b[0m             )\n\u001b[1;32m--> 848\u001b[1;33m         return self._input_request(str(prompt),\n\u001b[0m\u001b[0;32m    849\u001b[0m             \u001b[0mself\u001b[0m\u001b[1;33m.\u001b[0m\u001b[0m_parent_ident\u001b[0m\u001b[1;33m,\u001b[0m\u001b[1;33m\u001b[0m\u001b[1;33m\u001b[0m\u001b[0m\n\u001b[0;32m    850\u001b[0m             \u001b[0mself\u001b[0m\u001b[1;33m.\u001b[0m\u001b[0m_parent_header\u001b[0m\u001b[1;33m,\u001b[0m\u001b[1;33m\u001b[0m\u001b[1;33m\u001b[0m\u001b[0m\n",
      "\u001b[1;32m~\\AppData\\Roaming\\Python\\Python39\\site-packages\\ipykernel\\kernelbase.py\u001b[0m in \u001b[0;36m_input_request\u001b[1;34m(self, prompt, ident, parent, password)\u001b[0m\n\u001b[0;32m    890\u001b[0m             \u001b[1;32mexcept\u001b[0m \u001b[0mKeyboardInterrupt\u001b[0m\u001b[1;33m:\u001b[0m\u001b[1;33m\u001b[0m\u001b[1;33m\u001b[0m\u001b[0m\n\u001b[0;32m    891\u001b[0m                 \u001b[1;31m# re-raise KeyboardInterrupt, to truncate traceback\u001b[0m\u001b[1;33m\u001b[0m\u001b[1;33m\u001b[0m\u001b[0m\n\u001b[1;32m--> 892\u001b[1;33m                 \u001b[1;32mraise\u001b[0m \u001b[0mKeyboardInterrupt\u001b[0m\u001b[1;33m(\u001b[0m\u001b[1;34m\"Interrupted by user\"\u001b[0m\u001b[1;33m)\u001b[0m \u001b[1;32mfrom\u001b[0m \u001b[1;32mNone\u001b[0m\u001b[1;33m\u001b[0m\u001b[1;33m\u001b[0m\u001b[0m\n\u001b[0m\u001b[0;32m    893\u001b[0m             \u001b[1;32mexcept\u001b[0m \u001b[0mException\u001b[0m \u001b[1;32mas\u001b[0m \u001b[0me\u001b[0m\u001b[1;33m:\u001b[0m\u001b[1;33m\u001b[0m\u001b[1;33m\u001b[0m\u001b[0m\n\u001b[0;32m    894\u001b[0m                 \u001b[0mself\u001b[0m\u001b[1;33m.\u001b[0m\u001b[0mlog\u001b[0m\u001b[1;33m.\u001b[0m\u001b[0mwarning\u001b[0m\u001b[1;33m(\u001b[0m\u001b[1;34m\"Invalid Message:\"\u001b[0m\u001b[1;33m,\u001b[0m \u001b[0mexc_info\u001b[0m\u001b[1;33m=\u001b[0m\u001b[1;32mTrue\u001b[0m\u001b[1;33m)\u001b[0m\u001b[1;33m\u001b[0m\u001b[1;33m\u001b[0m\u001b[0m\n",
      "\u001b[1;31mKeyboardInterrupt\u001b[0m: Interrupted by user"
     ]
    }
   ],
   "source": [
    "T=int(input(''))\n",
    "\n",
    "while (T>0):\n",
    "    M,N,K=map(int,input('').split())\n",
    "    if M>N*K:\n",
    "        print('YES')\n",
    "    else:\n",
    "        print('NO')\n",
    "    T=T-1"
   ]
  },
  {
   "cell_type": "markdown",
   "id": "95f12577",
   "metadata": {},
   "source": [
    "1 to 100: easy"
   ]
  },
  {
   "cell_type": "markdown",
   "id": "3851520e",
   "metadata": {},
   "source": [
    "100 to 200: medium"
   ]
  },
  {
   "cell_type": "markdown",
   "id": "e7ada6ef",
   "metadata": {},
   "source": [
    "200 to 300: hard"
   ]
  },
  {
   "cell_type": "code",
   "execution_count": 12,
   "id": "43f041ac",
   "metadata": {},
   "outputs": [
    {
     "name": "stdout",
     "output_type": "stream",
     "text": [
      "3\n",
      "80\n",
      "Easy\n",
      "100\n",
      "Medium\n",
      "300\n",
      "Hard\n"
     ]
    }
   ],
   "source": [
    "T=int(input(''))\n",
    "\n",
    "while (T>0):\n",
    "    M=int(input(''))\n",
    "    if (M<100) and (M>=1):\n",
    "        print('Easy')\n",
    "    elif (M>=100) and (M<200):\n",
    "        print('Medium')\n",
    "    else:\n",
    "        print('Hard')\n",
    "    T=T-1"
   ]
  },
  {
   "cell_type": "markdown",
   "id": "52ee4a12",
   "metadata": {},
   "source": [
    "pretty numbers ending with 2, 3, 9"
   ]
  },
  {
   "cell_type": "code",
   "execution_count": null,
   "id": "0cfabc0b",
   "metadata": {},
   "outputs": [],
   "source": [
    "T=int(input(''))\n",
    "while(T>0):\n",
    "    count=0\n",
    "    L,M=map(int,input('').split())\n",
    "    for i in range(L,M+1):\n",
    "        if (i%10==3) or (i%10==2) or (i%10==9):\n",
    "            count+=1\n",
    "        else:\n",
    "            continue\n",
    "    print(count)\n",
    "    T=T-1"
   ]
  },
  {
   "cell_type": "markdown",
   "id": "abaa6f1c",
   "metadata": {},
   "source": [
    "total profit=no.of stocks*SP-stocks*CP"
   ]
  },
  {
   "cell_type": "code",
   "execution_count": null,
   "id": "943489e1",
   "metadata": {},
   "outputs": [],
   "source": [
    "T=int(input(''))\n",
    "while(T>0):\n",
    "    profit=0\n",
    "    X,Y,Z=map(int,input('').split())\n",
    "    profit=X*Z-X*Y\n",
    "    print(profit)\n",
    "    T=T-1"
   ]
  },
  {
   "cell_type": "code",
   "execution_count": 3,
   "id": "f56b0597",
   "metadata": {},
   "outputs": [
    {
     "name": "stdout",
     "output_type": "stream",
     "text": [
      "4\n",
      "number: 6\n",
      "3 2\n",
      "number: 9\n",
      "3 3\n",
      "number: 7\n",
      "1 7\n",
      "number: 23\n",
      "1 23\n"
     ]
    }
   ],
   "source": [
    "T=int(input(''))\n",
    "while(T>0):\n",
    "    a=[]\n",
    "    M=0\n",
    "    b=0\n",
    "    N=int(input('number: '))\n",
    "    for i in range(1,N+1):\n",
    "        if N%i==0:\n",
    "            a.append(i)\n",
    "            a.sort()\n",
    "            if len(a)>=2:\n",
    "                b=N//(int(a[-2]))\n",
    "            else:\n",
    "                b=N//(int(a[0]))\n",
    "        else:\n",
    "            continue\n",
    "    if len(a)>=2:\n",
    "        print(a[-2],b)\n",
    "    else:\n",
    "        print(a[0],b)\n",
    "    T=T-1"
   ]
  },
  {
   "cell_type": "code",
   "execution_count": 1,
   "id": "93c8c36b",
   "metadata": {},
   "outputs": [
    {
     "name": "stdout",
     "output_type": "stream",
     "text": [
      "1\n",
      "19 17\n",
      "19 36\n"
     ]
    },
    {
     "ename": "KeyboardInterrupt",
     "evalue": "Interrupted by user",
     "output_type": "error",
     "traceback": [
      "\u001b[1;31m---------------------------------------------------------------------------\u001b[0m",
      "\u001b[1;31mKeyboardInterrupt\u001b[0m                         Traceback (most recent call last)",
      "\u001b[1;32m<ipython-input-1-a14add1d068d>\u001b[0m in \u001b[0;36m<module>\u001b[1;34m\u001b[0m\n\u001b[0;32m      1\u001b[0m \u001b[0mT\u001b[0m\u001b[1;33m=\u001b[0m\u001b[0mint\u001b[0m\u001b[1;33m(\u001b[0m\u001b[0minput\u001b[0m\u001b[1;33m(\u001b[0m\u001b[1;34m''\u001b[0m\u001b[1;33m)\u001b[0m\u001b[1;33m)\u001b[0m\u001b[1;33m\u001b[0m\u001b[1;33m\u001b[0m\u001b[0m\n\u001b[0;32m      2\u001b[0m \u001b[1;32mwhile\u001b[0m\u001b[1;33m(\u001b[0m\u001b[0mT\u001b[0m\u001b[1;33m>\u001b[0m\u001b[1;36m0\u001b[0m\u001b[1;33m)\u001b[0m\u001b[1;33m:\u001b[0m\u001b[1;33m\u001b[0m\u001b[1;33m\u001b[0m\u001b[0m\n\u001b[1;32m----> 3\u001b[1;33m     \u001b[0mA\u001b[0m\u001b[1;33m,\u001b[0m\u001b[0mB\u001b[0m\u001b[1;33m=\u001b[0m\u001b[0mmap\u001b[0m\u001b[1;33m(\u001b[0m\u001b[0mint\u001b[0m\u001b[1;33m,\u001b[0m\u001b[0minput\u001b[0m\u001b[1;33m(\u001b[0m\u001b[1;34m''\u001b[0m\u001b[1;33m)\u001b[0m\u001b[1;33m.\u001b[0m\u001b[0msplit\u001b[0m\u001b[1;33m(\u001b[0m\u001b[1;33m)\u001b[0m\u001b[1;33m)\u001b[0m\u001b[1;33m\u001b[0m\u001b[1;33m\u001b[0m\u001b[0m\n\u001b[0m\u001b[0;32m      4\u001b[0m     \u001b[0mM\u001b[0m\u001b[1;33m=\u001b[0m\u001b[0mmax\u001b[0m\u001b[1;33m(\u001b[0m\u001b[0mA\u001b[0m\u001b[1;33m,\u001b[0m\u001b[0mB\u001b[0m\u001b[1;33m)\u001b[0m\u001b[1;33m\u001b[0m\u001b[1;33m\u001b[0m\u001b[0m\n\u001b[0;32m      5\u001b[0m     \u001b[0mSum\u001b[0m\u001b[1;33m=\u001b[0m\u001b[0mA\u001b[0m\u001b[1;33m+\u001b[0m\u001b[0mB\u001b[0m\u001b[1;33m\u001b[0m\u001b[1;33m\u001b[0m\u001b[0m\n",
      "\u001b[1;32m~\\AppData\\Roaming\\Python\\Python39\\site-packages\\ipykernel\\kernelbase.py\u001b[0m in \u001b[0;36mraw_input\u001b[1;34m(self, prompt)\u001b[0m\n\u001b[0;32m    846\u001b[0m                 \u001b[1;34m\"raw_input was called, but this frontend does not support input requests.\"\u001b[0m\u001b[1;33m\u001b[0m\u001b[1;33m\u001b[0m\u001b[0m\n\u001b[0;32m    847\u001b[0m             )\n\u001b[1;32m--> 848\u001b[1;33m         return self._input_request(str(prompt),\n\u001b[0m\u001b[0;32m    849\u001b[0m             \u001b[0mself\u001b[0m\u001b[1;33m.\u001b[0m\u001b[0m_parent_ident\u001b[0m\u001b[1;33m,\u001b[0m\u001b[1;33m\u001b[0m\u001b[1;33m\u001b[0m\u001b[0m\n\u001b[0;32m    850\u001b[0m             \u001b[0mself\u001b[0m\u001b[1;33m.\u001b[0m\u001b[0m_parent_header\u001b[0m\u001b[1;33m,\u001b[0m\u001b[1;33m\u001b[0m\u001b[1;33m\u001b[0m\u001b[0m\n",
      "\u001b[1;32m~\\AppData\\Roaming\\Python\\Python39\\site-packages\\ipykernel\\kernelbase.py\u001b[0m in \u001b[0;36m_input_request\u001b[1;34m(self, prompt, ident, parent, password)\u001b[0m\n\u001b[0;32m    890\u001b[0m             \u001b[1;32mexcept\u001b[0m \u001b[0mKeyboardInterrupt\u001b[0m\u001b[1;33m:\u001b[0m\u001b[1;33m\u001b[0m\u001b[1;33m\u001b[0m\u001b[0m\n\u001b[0;32m    891\u001b[0m                 \u001b[1;31m# re-raise KeyboardInterrupt, to truncate traceback\u001b[0m\u001b[1;33m\u001b[0m\u001b[1;33m\u001b[0m\u001b[0m\n\u001b[1;32m--> 892\u001b[1;33m                 \u001b[1;32mraise\u001b[0m \u001b[0mKeyboardInterrupt\u001b[0m\u001b[1;33m(\u001b[0m\u001b[1;34m\"Interrupted by user\"\u001b[0m\u001b[1;33m)\u001b[0m \u001b[1;32mfrom\u001b[0m \u001b[1;32mNone\u001b[0m\u001b[1;33m\u001b[0m\u001b[1;33m\u001b[0m\u001b[0m\n\u001b[0m\u001b[0;32m    893\u001b[0m             \u001b[1;32mexcept\u001b[0m \u001b[0mException\u001b[0m \u001b[1;32mas\u001b[0m \u001b[0me\u001b[0m\u001b[1;33m:\u001b[0m\u001b[1;33m\u001b[0m\u001b[1;33m\u001b[0m\u001b[0m\n\u001b[0;32m    894\u001b[0m                 \u001b[0mself\u001b[0m\u001b[1;33m.\u001b[0m\u001b[0mlog\u001b[0m\u001b[1;33m.\u001b[0m\u001b[0mwarning\u001b[0m\u001b[1;33m(\u001b[0m\u001b[1;34m\"Invalid Message:\"\u001b[0m\u001b[1;33m,\u001b[0m \u001b[0mexc_info\u001b[0m\u001b[1;33m=\u001b[0m\u001b[1;32mTrue\u001b[0m\u001b[1;33m)\u001b[0m\u001b[1;33m\u001b[0m\u001b[1;33m\u001b[0m\u001b[0m\n",
      "\u001b[1;31mKeyboardInterrupt\u001b[0m: Interrupted by user"
     ]
    }
   ],
   "source": [
    "T=int(input(''))\n",
    "while(T>0):\n",
    "    A,B=map(int,input('').split())\n",
    "    M=max(A,B)\n",
    "    Sum=A+B\n",
    "    print(f'{M} {Sum}')\n",
    "    T=T-1"
   ]
  },
  {
   "cell_type": "code",
   "execution_count": 8,
   "id": "c099a987",
   "metadata": {},
   "outputs": [
    {
     "name": "stdout",
     "output_type": "stream",
     "text": [
      "2\n",
      "13\n",
      "2\n",
      "12\n",
      "1\n"
     ]
    }
   ],
   "source": [
    "T=int(input(''))\n",
    "while(T>0):\n",
    "    N=int(input(''))\n",
    "    if ((N+1)%7==0):\n",
    "        M=(N//7)+1\n",
    "    else:\n",
    "        M=N//7\n",
    "    print(M)\n",
    "    T=T-1"
   ]
  },
  {
   "cell_type": "code",
   "execution_count": 11,
   "id": "35eacf9f",
   "metadata": {},
   "outputs": [
    {
     "name": "stdout",
     "output_type": "stream",
     "text": [
      "2 1500\n",
      "1499\n",
      "Bad boi\n",
      "1500\n",
      "Bad boi\n"
     ]
    }
   ],
   "source": [
    "T,r=map(int,input('').split())\n",
    "while(T>0):\n",
    "    R=int(input(''))\n",
    "    if (R>=r):\n",
    "        print('Good boi')\n",
    "    else:\n",
    "        print('Bad boi')\n",
    "    T=T-1"
   ]
  },
  {
   "cell_type": "code",
   "execution_count": 12,
   "id": "d72dc83b",
   "metadata": {},
   "outputs": [
    {
     "name": "stdout",
     "output_type": "stream",
     "text": [
      "2\n",
      "50\n",
      "0\n",
      "88\n",
      "-1\n"
     ]
    }
   ],
   "source": [
    "T=int(input(''))\n",
    "while(T>0):\n",
    "    X=int(input(''))\n",
    "    if (X%10==0):\n",
    "        print('0')\n",
    "    elif (X%5==0):\n",
    "        print('1')\n",
    "    else:\n",
    "        print('-1')\n",
    "    T=T-1"
   ]
  },
  {
   "cell_type": "code",
   "execution_count": 15,
   "id": "5fb41a55",
   "metadata": {},
   "outputs": [
    {
     "name": "stdout",
     "output_type": "stream",
     "text": [
      "2\n",
      "14 2\n",
      "7.0\n",
      "9 4\n",
      "-1\n"
     ]
    }
   ],
   "source": [
    "T=int(input(''))\n",
    "while(T>0):\n",
    "    X,k=map(int,input('').split())\n",
    "    if (X%k==0):\n",
    "        print(int(X/k))\n",
    "    else:\n",
    "        print('-1')\n",
    "    T=T-1"
   ]
  },
  {
   "cell_type": "code",
   "execution_count": 18,
   "id": "e095057f",
   "metadata": {},
   "outputs": [
    {
     "name": "stdout",
     "output_type": "stream",
     "text": [
      "2 \n",
      "1 2 3 4\n",
      "Real Madrid\n",
      "8 9 2 3\n",
      "Barcelona\n"
     ]
    }
   ],
   "source": [
    "T=int(input(''))\n",
    "while(T>0):\n",
    "    '''B=int(input('Barcelona '))\n",
    "    M=int(input('Malaga '))\n",
    "    R=int(input('Real Madrid '))\n",
    "    E=int(input('Eibar '))'''\n",
    "    B,M,R,E=map(int,input('').split())\n",
    "    if (R<M) and (B>E):\n",
    "        print('Barcelona')\n",
    "    else:\n",
    "        print('Real Madrid')\n",
    "    T=T-1"
   ]
  },
  {
   "cell_type": "code",
   "execution_count": 38,
   "id": "68607028",
   "metadata": {},
   "outputs": [
    {
     "name": "stdout",
     "output_type": "stream",
     "text": [
      "1\n",
      "2 3\n",
      "21\n"
     ]
    }
   ],
   "source": [
    "T=int(input(''))\n",
    "while(T>0):\n",
    "    M,N=map(int,input('').split())\n",
    "    sum1=0\n",
    "    for i in range(M):\n",
    "        sum1=int(N*(N+1)/2)\n",
    "        N=sum1\n",
    "    print(sum1)\n",
    "    T=T-1\n",
    "            "
   ]
  },
  {
   "cell_type": "code",
   "execution_count": null,
   "id": "6415f1e8",
   "metadata": {},
   "outputs": [],
   "source": []
  }
 ],
 "metadata": {
  "kernelspec": {
   "display_name": "Python 3",
   "language": "python",
   "name": "python3"
  },
  "language_info": {
   "codemirror_mode": {
    "name": "ipython",
    "version": 3
   },
   "file_extension": ".py",
   "mimetype": "text/x-python",
   "name": "python",
   "nbconvert_exporter": "python",
   "pygments_lexer": "ipython3",
   "version": "3.9.7"
  }
 },
 "nbformat": 4,
 "nbformat_minor": 5
}
