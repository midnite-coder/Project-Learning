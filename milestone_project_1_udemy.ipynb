{
 "metadata": {
  "language_info": {
   "codemirror_mode": {
    "name": "ipython",
    "version": 3
   },
   "file_extension": ".py",
   "mimetype": "text/x-python",
   "name": "python",
   "nbconvert_exporter": "python",
   "pygments_lexer": "ipython3",
   "version": "3.9.5"
  },
  "orig_nbformat": 4,
  "kernelspec": {
   "name": "python3",
   "display_name": "Python 3.9.5 64-bit"
  },
  "interpreter": {
   "hash": "0ac516125b3ee16d4eaa41f008fade7bad50b808bd1b6d74d2e8ae0015ba9066"
  }
 },
 "nbformat": 4,
 "nbformat_minor": 2,
 "cells": [
  {
   "cell_type": "code",
   "execution_count": 1,
   "metadata": {},
   "outputs": [
    {
     "output_type": "stream",
     "name": "stdout",
     "text": [
      "dict_values([' ', ' ', ' '])\n",
      "dict_values([' ', ' ', ' '])\n",
      "dict_values([' ', ' ', ' '])\n",
      "Round 1\n",
      "X's turn\n",
      "dict_values(['x', ' ', ' '])\n",
      "dict_values([' ', ' ', ' '])\n",
      "dict_values([' ', ' ', ' '])\n",
      "Round 2\n",
      "O's turn\n",
      "dict_values(['x', ' ', 'o'])\n",
      "dict_values([' ', ' ', ' '])\n",
      "dict_values([' ', ' ', ' '])\n",
      "Round 3\n",
      "X's turn\n",
      "dict_values(['x', 'x', 'o'])\n",
      "dict_values([' ', ' ', ' '])\n",
      "dict_values([' ', ' ', ' '])\n",
      "Round 4\n",
      "O's turn\n",
      "dict_values(['x', 'x', 'o'])\n",
      "dict_values([' ', 'o', ' '])\n",
      "dict_values([' ', ' ', ' '])\n",
      "Round 5\n",
      "X's turn\n",
      "dict_values(['x', 'x', 'o'])\n",
      "dict_values([' ', 'o', ' '])\n",
      "dict_values([' ', ' ', 'x'])\n",
      "Round 6\n",
      "O's turn\n",
      "dict_values(['x', 'x', 'o'])\n",
      "dict_values([' ', 'o', ' '])\n",
      "dict_values(['o', ' ', 'x'])\n",
      "O won!!\n"
     ]
    }
   ],
   "source": [
    "r1={1:' ',2:' ',3:' '}\n",
    "r2={1:' ',2:' ',3:' '}\n",
    "r3={1:' ',2:' ',3:' '}\n",
    "print(r1.values())\n",
    "print(r2.values())\n",
    "print(r3.values())\n",
    "count=1\n",
    "X_won=0\n",
    "O_won=0\n",
    "while count<=9:\n",
    "    print(f'Round {count}')\n",
    "    r=input(\"Enter row:\")\n",
    "    c=int(input(\"Enter column:\"))\n",
    "    if count%2!=0:\n",
    "        print(\"X's turn\" )\n",
    "        if r=='r1':\n",
    "            r1[c]='x'\n",
    "            if (r1[1]=='x' and r2[2]=='x' and r3[3]=='x') or (r1[3]=='x'and r2[2]=='x' and r3[1]=='x') or (r1[1]=='x' and r1[2]=='x' and r1[3]=='x') or (r2[1]=='x' and r2[2]=='x' and r2[3]=='x') or (r3[1]=='x' and r3[2]=='x' and r3[3]=='x') or (r1[1]=='x' and r2[1]=='x' and r3[1]=='x') or (r1[2]=='x' and r2[2]=='x' and r3[2]=='x') or (r1[3]=='x' and r2[3]=='x' and r3[3]=='x'):\n",
    "                X_won+=1\n",
    "                break\n",
    "            else:\n",
    "                pass\n",
    "        elif r=='r2':\n",
    "            r2[c]='x'\n",
    "            if (r1[1]=='x' and r2[2]=='x' and r3[3]=='x') or (r1[3]=='x'and r2[2]=='x' and r3[1]=='x') or (r1[1]=='x' and r1[2]=='x' and r1[3]=='x') or (r2[1]=='x' and r2[2]=='x' and r2[3]=='x') or (r3[1]=='x' and r3[2]=='x' and r3[3]=='x') or (r1[1]=='x' and r2[1]=='x' and r3[1]=='x') or (r1[2]=='x' and r2[2]=='x' and r3[2]=='x') or (r1[3]=='x' and r2[3]=='x' and r3[3]=='x'):\n",
    "                X_won+=1\n",
    "                break\n",
    "            else:\n",
    "                pass\n",
    "        elif r=='r3':\n",
    "            r3[c]='x'\n",
    "            if (r1[1]=='x' and r2[2]=='x' and r3[3]=='x') or (r1[3]=='x'and r2[2]=='x' and r3[1]=='x') or (r1[1]=='x' and r1[2]=='x' and r1[3]=='x') or (r2[1]=='x' and r2[2]=='x' and r2[3]=='x') or (r3[1]=='x' and r3[2]=='x' and r3[3]=='x') or (r1[1]=='x' and r2[1]=='x' and r3[1]=='x') or (r1[2]=='x' and r2[2]=='x' and r3[2]=='x') or (r1[3]=='x' and r2[3]=='x' and r3[3]=='x'):\n",
    "                X_won+=1\n",
    "                break\n",
    "            else:\n",
    "                pass\n",
    "        else:\n",
    "            print('wrong input. Try again')\n",
    "            continue\n",
    "    else:\n",
    "        print(\"O's turn\" )\n",
    "        if r=='r1':\n",
    "            r1[c]='o'\n",
    "            if (r1[1]=='o' and r2[2]=='o' and r3[3]=='o') or (r1[3]=='o'and r2[2]=='o' and r3[1]=='o') or (r1[1]=='o' and r1[2]=='o' and r1[3]=='o') or (r2[1]=='o' and r2[2]=='o' and r2[3]=='o') or (r3[1]=='o' and r3[2]=='o' and r3[3]=='o') or (r1[1]=='o' and r2[1]=='o' and r3[1]=='o') or (r1[2]=='o' and r2[2]=='o' and r3[2]=='o') or (r1[3]=='o' and r2[3]=='o' and r3[3]=='o'):\n",
    "                O_won+=1\n",
    "                break\n",
    "            else:\n",
    "                pass  \n",
    "        elif r=='r2':\n",
    "            r2[c]='o'\n",
    "            if (r1[1]=='o' and r2[2]=='o' and r3[3]=='o') or (r1[3]=='o'and r2[2]=='o' and r3[1]=='o') or (r1[1]=='o' and r1[2]=='o' and r1[3]=='o') or (r2[1]=='o' and r2[2]=='o' and r2[3]=='o') or (r3[1]=='o' and r3[2]=='o' and r3[3]=='o') or (r1[1]=='o' and r2[1]=='o' and r3[1]=='o') or (r1[2]=='o' and r2[2]=='o' and r3[2]=='o') or (r1[3]=='o' and r2[3]=='o' and r3[3]=='o'):\n",
    "                O_won+=1\n",
    "                break\n",
    "            else:\n",
    "                pass\n",
    "        elif r=='r3':\n",
    "            r3[c]='o'\n",
    "            if (r1[1]=='o' and r2[2]=='o' and r3[3]=='o') or (r1[3]=='o'and r2[2]=='o' and r3[1]=='o') or (r1[1]=='o' and r1[2]=='o' and r1[3]=='o') or (r2[1]=='o' and r2[2]=='o' and r2[3]=='o') or (r3[1]=='o' and r3[2]=='o' and r3[3]=='o') or (r1[1]=='o' and r2[1]=='o' and r3[1]=='o') or (r1[2]=='o' and r2[2]=='o' and r3[2]=='o') or (r1[3]=='o' and r2[3]=='o' and r3[3]=='o'):\n",
    "                O_won+=1\n",
    "                break\n",
    "            else:\n",
    "                pass\n",
    "        else:\n",
    "            print('wrong input. Try again')\n",
    "            continue\n",
    "    \n",
    "    print(r1.values())\n",
    "    print(r2.values())\n",
    "    print(r3.values())\n",
    "    \n",
    "    count+=1\n",
    "print(r1.values())\n",
    "print(r2.values())\n",
    "print(r3.values())\n",
    "if X_won>0:\n",
    "    print('X won!!')\n",
    "elif O_won>0:\n",
    "    print('O won!!')\n",
    "else:\n",
    "    print('Draw')"
   ]
  },
  {
   "cell_type": "code",
   "execution_count": 5,
   "metadata": {},
   "outputs": [],
   "source": [
    "def chatroom_status(users):\n",
    "\tif users==0:\n",
    "\t\treturn ('noone online')\n",
    "\telif users==1:\n",
    "\t\treturn ('user1 online')\n",
    "\telif users==2:\n",
    "\t\treturn ('user1 and user2 online')\n",
    "\telse:\n",
    "\t\treturn (f'user1 and user2 and {users-2} more online')"
   ]
  },
  {
   "cell_type": "code",
   "execution_count": 6,
   "metadata": {},
   "outputs": [
    {
     "output_type": "execute_result",
     "data": {
      "text/plain": [
       "'user1 and user2 and 3 more online'"
      ]
     },
     "metadata": {},
     "execution_count": 6
    }
   ],
   "source": [
    "chatroom_status(5)"
   ]
  },
  {
   "cell_type": "code",
   "execution_count": 15,
   "metadata": {},
   "outputs": [
    {
     "output_type": "error",
     "ename": "TypeError",
     "evalue": "'list' object cannot be interpreted as an integer",
     "traceback": [
      "\u001b[1;31m---------------------------------------------------------------------------\u001b[0m",
      "\u001b[1;31mTypeError\u001b[0m                                 Traceback (most recent call last)",
      "\u001b[1;32m<ipython-input-15-e101dd6c591d>\u001b[0m in \u001b[0;36m<module>\u001b[1;34m\u001b[0m\n\u001b[0;32m     18\u001b[0m         \u001b[0mprint\u001b[0m\u001b[1;33m(\u001b[0m\u001b[0mx\u001b[0m\u001b[1;33m)\u001b[0m\u001b[1;33m\u001b[0m\u001b[1;33m\u001b[0m\u001b[0m\n\u001b[0;32m     19\u001b[0m \u001b[1;33m\u001b[0m\u001b[0m\n\u001b[1;32m---> 20\u001b[1;33m \u001b[0mcheck\u001b[0m\u001b[1;33m(\u001b[0m\u001b[1;33m[\u001b[0m\u001b[1;36m5\u001b[0m\u001b[1;33m,\u001b[0m\u001b[1;36m7\u001b[0m\u001b[1;33m,\u001b[0m\u001b[1;36m9\u001b[0m\u001b[1;33m]\u001b[0m\u001b[1;33m)\u001b[0m\u001b[1;33m\u001b[0m\u001b[1;33m\u001b[0m\u001b[0m\n\u001b[0m",
      "\u001b[1;32m<ipython-input-15-e101dd6c591d>\u001b[0m in \u001b[0;36mcheck\u001b[1;34m(lst)\u001b[0m\n\u001b[0;32m      9\u001b[0m             \u001b[1;32melif\u001b[0m \u001b[0mx\u001b[0m\u001b[1;33m>\u001b[0m\u001b[0my\u001b[0m\u001b[1;33m:\u001b[0m\u001b[1;33m\u001b[0m\u001b[1;33m\u001b[0m\u001b[0m\n\u001b[0;32m     10\u001b[0m                 \u001b[0mdec\u001b[0m\u001b[1;33m+=\u001b[0m\u001b[1;36m1\u001b[0m\u001b[1;33m\u001b[0m\u001b[1;33m\u001b[0m\u001b[0m\n\u001b[1;32m---> 11\u001b[1;33m     \u001b[1;32mif\u001b[0m \u001b[0minc\u001b[0m\u001b[1;33m==\u001b[0m\u001b[0mrange\u001b[0m\u001b[1;33m(\u001b[0m\u001b[0mlst\u001b[0m\u001b[1;33m)\u001b[0m\u001b[1;33m:\u001b[0m\u001b[1;33m\u001b[0m\u001b[1;33m\u001b[0m\u001b[0m\n\u001b[0m\u001b[0;32m     12\u001b[0m         \u001b[0mprint\u001b[0m\u001b[1;33m(\u001b[0m\u001b[1;34m'increasing'\u001b[0m\u001b[1;33m)\u001b[0m\u001b[1;33m\u001b[0m\u001b[1;33m\u001b[0m\u001b[0m\n\u001b[0;32m     13\u001b[0m     \u001b[1;32melif\u001b[0m \u001b[0mdec\u001b[0m\u001b[1;33m==\u001b[0m\u001b[0mrange\u001b[0m\u001b[1;33m(\u001b[0m\u001b[0mlst\u001b[0m\u001b[1;33m)\u001b[0m\u001b[1;33m:\u001b[0m\u001b[1;33m\u001b[0m\u001b[1;33m\u001b[0m\u001b[0m\n",
      "\u001b[1;31mTypeError\u001b[0m: 'list' object cannot be interpreted as an integer"
     ]
    }
   ],
   "source": [
    "def check(lst):\n",
    "    inc=0\n",
    "    dec=0\n",
    "    \n",
    "    for x in lst:\n",
    "        for y in lst:\n",
    "            if x<y:\n",
    "                inc+=1\n",
    "            elif x>y:\n",
    "                dec+=1\n",
    "    if inc==range(lst):\n",
    "        print('increasing')\n",
    "    elif dec==range(lst):\n",
    "        print('decreasing')\n",
    "    else:\n",
    "        print('neither')\n",
    "    for x in range(lst):\n",
    "        print(x)\n",
    "\n",
    "check([5,7,9]) "
   ]
  },
  {
   "cell_type": "code",
   "execution_count": 3,
   "metadata": {},
   "outputs": [
    {
     "output_type": "stream",
     "name": "stdout",
     "text": [
      "[104, 108, 112, 116, 120, 124, 128, 132, 136, 140, 144, 148, 152, 156, 160]\n"
     ]
    }
   ],
   "source": [
    "def find_leap_years(given_year):\n",
    "    list_of_leap_year=[]\n",
    "    while len(list_of_leap_year)!=15:\n",
    "        if given_year%4==0:\n",
    "            if given_year%100==0:\n",
    "                if given_year%400==0:\n",
    "                    list_of_leap_year.append(given_year)\n",
    "            else:\n",
    "                list_of_leap_year.append(given_year)\n",
    "        given_year+=1\n",
    "    return list_of_leap_year\n",
    "print(find_leap_years(99))\n"
   ]
  },
  {
   "cell_type": "code",
   "execution_count": null,
   "metadata": {},
   "outputs": [],
   "source": []
  }
 ]
}